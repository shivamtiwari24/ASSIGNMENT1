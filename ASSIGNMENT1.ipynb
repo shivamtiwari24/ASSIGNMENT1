{
 "cells": [
  {
   "cell_type": "code",
   "execution_count": 1,
   "id": "7f206404-8b11-4d47-a389-a82594222daa",
   "metadata": {},
   "outputs": [
    {
     "data": {
      "text/plain": [
       "'ans --> pyhton is a programming language that is easy to understand and write. Making it a popular choice for developers and programmers. '"
      ]
     },
     "execution_count": 1,
     "metadata": {},
     "output_type": "execute_result"
    }
   ],
   "source": [
    "#explain the key feautures of python that make it a popular choice for programming.\n",
    "\n",
    "'''ans --> pyhton is a programming language that is easy to understand and write. Making it a popular choice for developers and programmers. '''"
   ]
  },
  {
   "cell_type": "code",
   "execution_count": 4,
   "id": "4b338806-10d2-4837-9b73-54bc425fcadd",
   "metadata": {},
   "outputs": [
    {
     "data": {
      "text/plain": [
       "'ans--> predefined keywords are reserved words in python. that have a special meaning.example print is only used to print a statement . it cannot be useed as identifier.'"
      ]
     },
     "execution_count": 4,
     "metadata": {},
     "output_type": "execute_result"
    }
   ],
   "source": [
    "#Describe the role of predefined keywords in Python and provide examples of how they are used in a program.\n",
    "\n",
    "'''ans--> predefined keywords are reserved words in python. that have a special meaning.example print is only used to print a statement . it cannot be useed as identifier.'''"
   ]
  },
  {
   "cell_type": "code",
   "execution_count": 8,
   "id": "83dda827-a318-4a36-b073-3696a48f978b",
   "metadata": {},
   "outputs": [
    {
     "name": "stdout",
     "output_type": "stream",
     "text": [
      "hello shivam\n"
     ]
    }
   ],
   "source": [
    "print( \"hello shivam\")"
   ]
  },
  {
   "cell_type": "code",
   "execution_count": 14,
   "id": "6e877718-1da9-4d1b-88f1-75d4128a7177",
   "metadata": {},
   "outputs": [
    {
     "data": {
      "text/plain": [
       "\"ans--> In python mutable object means the objects which can be modified and immutable means the objects can't be modified Ex-list is a mutable object and tuple is a immutable object. \""
      ]
     },
     "execution_count": 14,
     "metadata": {},
     "output_type": "execute_result"
    }
   ],
   "source": [
    "#Compare and contrast mutable and immutable objects in Python with examples.\n",
    "\n",
    "'''ans--> In python mutable object means the objects which can be modified and immutable means the objects can't be modified Ex-list is a mutable object and tuple is a immutable object. '''"
   ]
  },
  {
   "cell_type": "code",
   "execution_count": 37,
   "id": "6e245f4c-1358-4a33-9582-ee604170b59b",
   "metadata": {},
   "outputs": [
    {
     "data": {
      "text/plain": [
       "[19, 'shivam', 'tiwari']"
      ]
     },
     "execution_count": 37,
     "metadata": {},
     "output_type": "execute_result"
    }
   ],
   "source": [
    "b=[19, 'shivam' ,20 ]\n",
    "b[2]=\"tiwari\"\n",
    "b\n",
    "\n",
    "# here value 20 is changed to tiwari."
   ]
  },
  {
   "cell_type": "code",
   "execution_count": 38,
   "id": "111a7173-ef57-4c19-b75a-7ecfb4aaa758",
   "metadata": {},
   "outputs": [
    {
     "data": {
      "text/plain": [
       "' Ans--> Python supports various types of operator such as : Arithmatic operator, Logical operator, Comparison operator, Bitwise operator,Assignmet operator\\nmembership and identity operator '"
      ]
     },
     "execution_count": 38,
     "metadata": {},
     "output_type": "execute_result"
    }
   ],
   "source": [
    "# Discuss the different types of operators in Python and provide examples of how they are used.\n",
    "\n",
    "''' Ans--> Python supports various types of operator such as : Arithmatic operator, Logical operator, Comparison operator, Bitwise operator,Assignmet operator\n",
    "membership and identity operator '''"
   ]
  },
  {
   "cell_type": "code",
   "execution_count": 41,
   "id": "5d646c7b-f8db-44af-8f78-c2a2de682e90",
   "metadata": {},
   "outputs": [
    {
     "data": {
      "text/plain": [
       "15"
      ]
     },
     "execution_count": 41,
     "metadata": {},
     "output_type": "execute_result"
    }
   ],
   "source": [
    "x=6\n",
    "y=9\n",
    "z=a+b\n",
    "#here \"+\" is a arithmatic addition operator \n",
    "z"
   ]
  },
  {
   "cell_type": "code",
   "execution_count": 42,
   "id": "6bb886e0-0638-4a31-82d8-51e1f168e79c",
   "metadata": {},
   "outputs": [
    {
     "data": {
      "text/plain": [
       "'ans--> Type casting is the referred to as type conversion It is the process of changing one data type to another.'"
      ]
     },
     "execution_count": 42,
     "metadata": {},
     "output_type": "execute_result"
    }
   ],
   "source": [
    "#explain the concept of type casting in Python with examples.\n",
    "\n",
    "'''ans--> Type casting is the referred to as type conversion It is the process of changing one data type to another.'''"
   ]
  },
  {
   "cell_type": "code",
   "execution_count": 47,
   "id": "878ede53-ca4f-49bb-9c87-58578c1efae3",
   "metadata": {},
   "outputs": [
    {
     "data": {
      "text/plain": [
       "int"
      ]
     },
     "execution_count": 47,
     "metadata": {},
     "output_type": "execute_result"
    }
   ],
   "source": [
    "#ex\n",
    "x='3'\n",
    "y=int(x)\n",
    "#type(x)\n",
    "type(y)\n",
    "#here x is string type and y is int type. using int i convert string type 2 to int type"
   ]
  },
  {
   "cell_type": "code",
   "execution_count": 52,
   "id": "6ee7b557-8b5a-498f-ba57-68ea9b94294b",
   "metadata": {},
   "outputs": [
    {
     "data": {
      "text/plain": [
       "'ans--> Conditional statement in python are used to execute code based on the evalution of one or more condition python supports conditional statement such as if, elif, else if, if else. '"
      ]
     },
     "execution_count": 52,
     "metadata": {},
     "output_type": "execute_result"
    }
   ],
   "source": [
    "#How do conditional stateents wo$k in Python? Illustrate with examples.\n",
    "\n",
    "'''ans--> Conditional statement in python are used to execute code based on the evalution of one or more condition python supports conditional statement such as if, elif, else if, if else. '''\n",
    "\n"
   ]
  },
  {
   "cell_type": "code",
   "execution_count": 64,
   "id": "44ce11ad-3fa0-4a57-b54c-3de3ec50f6ed",
   "metadata": {},
   "outputs": [
    {
     "name": "stdout",
     "output_type": "stream",
     "text": [
      "yes a is greater\n"
     ]
    }
   ],
   "source": [
    "#example\n",
    "a=150\n",
    "if a>70:\n",
    "    print( \"yes a is greater\" )"
   ]
  },
  {
   "cell_type": "code",
   "execution_count": 71,
   "id": "576ec964-8363-4467-b060-e29cba249d69",
   "metadata": {},
   "outputs": [
    {
     "data": {
      "text/plain": [
       "' Ans--> python offers two primary types of loops for loop, while loop for loops are used for iterating over a sequence of elements,while\"while\" loops are used for executing code untill specied condition become false.'"
      ]
     },
     "execution_count": 71,
     "metadata": {},
     "output_type": "execute_result"
    }
   ],
   "source": [
    "#Describe the different types of loops in Python and their use cases with examples.\n",
    "\n",
    "\n",
    "''' Ans--> python offers two primary types of loops for loop, while loop for loops are used for iterating over a sequence of elements,while\"while\" loops are used for executing code untill specied condition become false.'''"
   ]
  },
  {
   "cell_type": "code",
   "execution_count": 74,
   "id": "c5980b79-e107-4b27-a47a-8f2d517e5413",
   "metadata": {},
   "outputs": [
    {
     "name": "stdout",
     "output_type": "stream",
     "text": [
      "m is present\n"
     ]
    }
   ],
   "source": [
    "#example\n",
    "\n",
    "a=\"manas\"\n",
    "for i in a:\n",
    "    if i=='m':\n",
    "        print ('m is present')\n",
    "        "
   ]
  },
  {
   "cell_type": "code",
   "execution_count": null,
   "id": "aaeb5ca0-5481-4271-8f0d-cbf582279879",
   "metadata": {},
   "outputs": [],
   "source": []
  }
 ],
 "metadata": {
  "kernelspec": {
   "display_name": "Python 3 (ipykernel)",
   "language": "python",
   "name": "python3"
  },
  "language_info": {
   "codemirror_mode": {
    "name": "ipython",
    "version": 3
   },
   "file_extension": ".py",
   "mimetype": "text/x-python",
   "name": "python",
   "nbconvert_exporter": "python",
   "pygments_lexer": "ipython3",
   "version": "3.10.8"
  }
 },
 "nbformat": 4,
 "nbformat_minor": 5
}
